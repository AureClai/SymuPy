{
 "cells": [
  {
   "cell_type": "markdown",
   "metadata": {},
   "source": [
    "# Générer des données depuis un fichier source de symuvia\n",
    "\n",
    "Dans cette note, on présente les méthodes permettant de générer des données diverses à partir de données brutes de trajectoire depuis Symuvia.\n",
    "Pour voir les méthodes d'extraction des données depuis Symuvia, voir le fichier *ExtraireDonneesSymuvia.ipynb*.\n",
    "On commence par charger le nécessaire."
   ]
  },
  {
   "cell_type": "code",
   "execution_count": 52,
   "metadata": {},
   "outputs": [
    {
     "data": {
      "text/html": [
       "<div>\n",
       "<style>\n",
       "    .dataframe thead tr:only-child th {\n",
       "        text-align: right;\n",
       "    }\n",
       "\n",
       "    .dataframe thead th {\n",
       "        text-align: left;\n",
       "    }\n",
       "\n",
       "    .dataframe tbody tr th {\n",
       "        vertical-align: top;\n",
       "    }\n",
       "</style>\n",
       "<table border=\"1\" class=\"dataframe\">\n",
       "  <thead>\n",
       "    <tr style=\"text-align: right;\">\n",
       "      <th></th>\n",
       "      <th>id</th>\n",
       "      <th>t</th>\n",
       "      <th>X</th>\n",
       "      <th>Y</th>\n",
       "      <th>vit</th>\n",
       "      <th>tron</th>\n",
       "      <th>dst</th>\n",
       "    </tr>\n",
       "  </thead>\n",
       "  <tbody>\n",
       "    <tr>\n",
       "      <th>0</th>\n",
       "      <td>0</td>\n",
       "      <td>8.0</td>\n",
       "      <td>654340.98</td>\n",
       "      <td>6836174.27</td>\n",
       "      <td>18.0</td>\n",
       "      <td>T_56451886_FRef</td>\n",
       "      <td>1.9</td>\n",
       "    </tr>\n",
       "    <tr>\n",
       "      <th>1</th>\n",
       "      <td>0</td>\n",
       "      <td>9.0</td>\n",
       "      <td>654323.16</td>\n",
       "      <td>6836176.78</td>\n",
       "      <td>18.0</td>\n",
       "      <td>T_56451886_FRef</td>\n",
       "      <td>19.9</td>\n",
       "    </tr>\n",
       "    <tr>\n",
       "      <th>2</th>\n",
       "      <td>0</td>\n",
       "      <td>10.0</td>\n",
       "      <td>654305.33</td>\n",
       "      <td>6836179.29</td>\n",
       "      <td>18.0</td>\n",
       "      <td>T_56451886_FRef</td>\n",
       "      <td>37.9</td>\n",
       "    </tr>\n",
       "    <tr>\n",
       "      <th>3</th>\n",
       "      <td>0</td>\n",
       "      <td>11.0</td>\n",
       "      <td>654287.51</td>\n",
       "      <td>6836181.80</td>\n",
       "      <td>18.0</td>\n",
       "      <td>T_56451886_FRef</td>\n",
       "      <td>55.9</td>\n",
       "    </tr>\n",
       "    <tr>\n",
       "      <th>4</th>\n",
       "      <td>0</td>\n",
       "      <td>12.0</td>\n",
       "      <td>654269.69</td>\n",
       "      <td>6836184.31</td>\n",
       "      <td>18.0</td>\n",
       "      <td>T_56451886_FRef</td>\n",
       "      <td>73.9</td>\n",
       "    </tr>\n",
       "  </tbody>\n",
       "</table>\n",
       "</div>"
      ],
      "text/plain": [
       "   id     t          X           Y   vit             tron   dst\n",
       "0   0   8.0  654340.98  6836174.27  18.0  T_56451886_FRef   1.9\n",
       "1   0   9.0  654323.16  6836176.78  18.0  T_56451886_FRef  19.9\n",
       "2   0  10.0  654305.33  6836179.29  18.0  T_56451886_FRef  37.9\n",
       "3   0  11.0  654287.51  6836181.80  18.0  T_56451886_FRef  55.9\n",
       "4   0  12.0  654269.69  6836184.31  18.0  T_56451886_FRef  73.9"
      ]
     },
     "execution_count": 52,
     "metadata": {},
     "output_type": "execute_result"
    }
   ],
   "source": [
    "# Import the required packages\n",
    "import tools\n",
    "import pandas as pd\n",
    "import random\n",
    "import numpy as np\n",
    "\n",
    "# Load the xml file and make a dataset of trajectories\n",
    "filename = \"Init_070000_120000_traf.xml\"\n",
    "df = tools.toDataSet(filename)\n",
    "\n",
    "# Display the first 5 rows of the dataset\n",
    "df.head(5)"
   ]
  },
  {
   "cell_type": "markdown",
   "metadata": {},
   "source": [
    "## Générer des données de véhicules sondes\n",
    "\n",
    "Pour générer des données de véhicules sondes, on a 3 paramètres :\n",
    "\n",
    "* Le taux de pénétration ou le taux de véhicules équipé de système de géolocalisation \n",
    "* La fréquence de remontée d'information\n",
    "* Information globale (*Lambert 93* - `global`) ou relative (tronçon+distance - `relative`) ou les deux (`both`)\n",
    "\n",
    "1 entrée :\n",
    "\n",
    "* Le DataFrame des trajectoires\n",
    "\n",
    "On crée ainsi une fonction Python :"
   ]
  },
  {
   "cell_type": "code",
   "execution_count": 55,
   "metadata": {},
   "outputs": [],
   "source": [
    "def generateProbeData(inputDf, tau, freq, scale = 'both'):\n",
    "    # On choisit un échantillon de véhicule parmis l'ensemble des véhicules présents\n",
    "    indices  = random.sample(set(pd.unique(inputDf.id)), int(tau*np.size(pd.unique(inputDf.id))))\n",
    "    newDf = inputDf[inputDf.id.isin(indices)]\n",
    "    \n",
    "    # On supprime les colonnes correspondantes\n",
    "    if scale == 'global':\n",
    "        # keep only the global scale columns\n",
    "        newDf = newDf.loc[:,['id', 't', 'X', 'Y', 'vit']]\n",
    "    elif scale == 'relative':\n",
    "        # keep only the relative scale columns\n",
    "        newDf = newDf.loc[:, ['id', 't', 'tron', 'dst', 'vit']]\n",
    "    elif scale != 'both':\n",
    "        # raise an error if the scale argument do not correspond to what it should be\n",
    "        raise TypeError('the argument \\'scale\\' has to be one of \\'both\\', \\'global\\' or \\'relative\\' ')\n",
    "    \n",
    "    #Frequence de remontée\n",
    "    for id in pd.unique(newDf.id):\n",
    "        firstPoint = int(min(newDf[newDf.id==id].t)) + random.randint(0,freq-1)\n",
    "        times = list(range(firstPoint, int(max(newDf[newDf.id==id].t)), freq))\n",
    "        # On récupère les lignes correspondantes, on range par t puis id et on réinitialise les index.\n",
    "        newDf = newDf[(newDf['t'].isin(times)) | (newDf['id'] !=id)].sort_values(by = ['t', 'id']).reset_index(drop=True)\n",
    "    \n",
    "        \n",
    "    return newDf\n"
   ]
  },
  {
   "cell_type": "markdown",
   "metadata": {},
   "source": [
    "On affiche les 5 premières lignes d'un appel de la fonction pour des données avec 15% des véhicules équipés et une fréquence de remontée d'information de 1 toutes les 60s.\n",
    "On veut des données relatives."
   ]
  },
  {
   "cell_type": "code",
   "execution_count": 56,
   "metadata": {},
   "outputs": [
    {
     "data": {
      "text/html": [
       "<div>\n",
       "<style>\n",
       "    .dataframe thead tr:only-child th {\n",
       "        text-align: right;\n",
       "    }\n",
       "\n",
       "    .dataframe thead th {\n",
       "        text-align: left;\n",
       "    }\n",
       "\n",
       "    .dataframe tbody tr th {\n",
       "        vertical-align: top;\n",
       "    }\n",
       "</style>\n",
       "<table border=\"1\" class=\"dataframe\">\n",
       "  <thead>\n",
       "    <tr style=\"text-align: right;\">\n",
       "      <th></th>\n",
       "      <th>id</th>\n",
       "      <th>t</th>\n",
       "      <th>tron</th>\n",
       "      <th>dst</th>\n",
       "      <th>vit</th>\n",
       "    </tr>\n",
       "  </thead>\n",
       "  <tbody>\n",
       "    <tr>\n",
       "      <th>0</th>\n",
       "      <td>10</td>\n",
       "      <td>36.0</td>\n",
       "      <td>T_865037904_FRef</td>\n",
       "      <td>16.98</td>\n",
       "      <td>8.33</td>\n",
       "    </tr>\n",
       "    <tr>\n",
       "      <th>1</th>\n",
       "      <td>14</td>\n",
       "      <td>51.0</td>\n",
       "      <td>T_56441638_FRef</td>\n",
       "      <td>189.90</td>\n",
       "      <td>18.00</td>\n",
       "    </tr>\n",
       "    <tr>\n",
       "      <th>2</th>\n",
       "      <td>27</td>\n",
       "      <td>74.0</td>\n",
       "      <td>T_68847245_FRef</td>\n",
       "      <td>7.21</td>\n",
       "      <td>18.00</td>\n",
       "    </tr>\n",
       "    <tr>\n",
       "      <th>3</th>\n",
       "      <td>28</td>\n",
       "      <td>92.0</td>\n",
       "      <td>T_928015135_FRef</td>\n",
       "      <td>15.15</td>\n",
       "      <td>18.00</td>\n",
       "    </tr>\n",
       "    <tr>\n",
       "      <th>4</th>\n",
       "      <td>10</td>\n",
       "      <td>96.0</td>\n",
       "      <td>T_773065988_FRef</td>\n",
       "      <td>115.16</td>\n",
       "      <td>18.00</td>\n",
       "    </tr>\n",
       "  </tbody>\n",
       "</table>\n",
       "</div>"
      ],
      "text/plain": [
       "   id     t              tron     dst    vit\n",
       "0  10  36.0  T_865037904_FRef   16.98   8.33\n",
       "1  14  51.0   T_56441638_FRef  189.90  18.00\n",
       "2  27  74.0   T_68847245_FRef    7.21  18.00\n",
       "3  28  92.0  T_928015135_FRef   15.15  18.00\n",
       "4  10  96.0  T_773065988_FRef  115.16  18.00"
      ]
     },
     "execution_count": 56,
     "metadata": {},
     "output_type": "execute_result"
    }
   ],
   "source": [
    "generateProbeData(df, tau=0.15, freq=60, scale='relative').head(5)"
   ]
  },
  {
   "cell_type": "markdown",
   "metadata": {},
   "source": [
    "On affiche la même chose avec un taux de 40% et une remontée toutes les 30s pour une échelle globale."
   ]
  },
  {
   "cell_type": "code",
   "execution_count": 57,
   "metadata": {},
   "outputs": [
    {
     "data": {
      "text/html": [
       "<div>\n",
       "<style>\n",
       "    .dataframe thead tr:only-child th {\n",
       "        text-align: right;\n",
       "    }\n",
       "\n",
       "    .dataframe thead th {\n",
       "        text-align: left;\n",
       "    }\n",
       "\n",
       "    .dataframe tbody tr th {\n",
       "        vertical-align: top;\n",
       "    }\n",
       "</style>\n",
       "<table border=\"1\" class=\"dataframe\">\n",
       "  <thead>\n",
       "    <tr style=\"text-align: right;\">\n",
       "      <th></th>\n",
       "      <th>id</th>\n",
       "      <th>t</th>\n",
       "      <th>X</th>\n",
       "      <th>Y</th>\n",
       "      <th>vit</th>\n",
       "    </tr>\n",
       "  </thead>\n",
       "  <tbody>\n",
       "    <tr>\n",
       "      <th>0</th>\n",
       "      <td>7</td>\n",
       "      <td>33.0</td>\n",
       "      <td>645593.35</td>\n",
       "      <td>6836259.32</td>\n",
       "      <td>13.89</td>\n",
       "    </tr>\n",
       "    <tr>\n",
       "      <th>1</th>\n",
       "      <td>12</td>\n",
       "      <td>42.0</td>\n",
       "      <td>639834.78</td>\n",
       "      <td>6839291.97</td>\n",
       "      <td>18.00</td>\n",
       "    </tr>\n",
       "    <tr>\n",
       "      <th>2</th>\n",
       "      <td>6</td>\n",
       "      <td>46.0</td>\n",
       "      <td>647816.80</td>\n",
       "      <td>6836120.24</td>\n",
       "      <td>18.00</td>\n",
       "    </tr>\n",
       "    <tr>\n",
       "      <th>3</th>\n",
       "      <td>4</td>\n",
       "      <td>50.0</td>\n",
       "      <td>650005.31</td>\n",
       "      <td>6836306.70</td>\n",
       "      <td>18.00</td>\n",
       "    </tr>\n",
       "    <tr>\n",
       "      <th>4</th>\n",
       "      <td>17</td>\n",
       "      <td>58.0</td>\n",
       "      <td>645726.02</td>\n",
       "      <td>6836289.63</td>\n",
       "      <td>13.89</td>\n",
       "    </tr>\n",
       "  </tbody>\n",
       "</table>\n",
       "</div>"
      ],
      "text/plain": [
       "   id     t          X           Y    vit\n",
       "0   7  33.0  645593.35  6836259.32  13.89\n",
       "1  12  42.0  639834.78  6839291.97  18.00\n",
       "2   6  46.0  647816.80  6836120.24  18.00\n",
       "3   4  50.0  650005.31  6836306.70  18.00\n",
       "4  17  58.0  645726.02  6836289.63  13.89"
      ]
     },
     "execution_count": 57,
     "metadata": {},
     "output_type": "execute_result"
    }
   ],
   "source": [
    "generateProbeData(df, tau=0.40, freq=30, scale='global').head(5)"
   ]
  },
  {
   "cell_type": "markdown",
   "metadata": {},
   "source": [
    "Pour enregistrer les données en csv, on doit utiliser la fonction [`to_csv`](https://pandas.pydata.org/pandas-docs/stable/generated/pandas.DataFrame.to_csv.html)"
   ]
  },
  {
   "cell_type": "markdown",
   "metadata": {},
   "source": [
    "## Génération de données boucles\n",
    "La génération de données boucles font appel à plusieurs paramètres :\n",
    "* Tronçon sur la boucle `tron`\n",
    "* Emplacement de la boucle sur le tronçon `dst`\n",
    "* Période d'aggrégation `agg`\n",
    "\n",
    "On dispose aussi de la dataframe des trajectoires de l'ensemble des véhicules.\n",
    "\n",
    "### Génération des débits pour une boucle\n",
    "\n",
    "On crée aussi une fonction Python correspondant à une boucle:"
   ]
  },
  {
   "cell_type": "code",
   "execution_count": 66,
   "metadata": {},
   "outputs": [],
   "source": [
    "def generateOneLoopData(df, tron, dst, agg):\n",
    "    # On filtre la dataframe par rapport au tronçon considéré\n",
    "    df = df[df.tron == tron]\n",
    "    # Pour faciliter les calculs on recherche une fenêtre de distance\n",
    "    # cette fenêtre est calculée de façon à ce qu'on aie un point minimum de trajectoire avant et un après la boucle\n",
    "    # il s'agit de l'emplacement de la boucle - et + la distance parcourue à vitesse max par les véhicules en un pas de temps\n",
    "    maxSpeed = max(df.vit)\n",
    "    \n",
    "    #On génère les données de temps de passage à la boucle\n",
    "    times = []\n",
    "    # boucle sur les différents véhicules\n",
    "    for id in pd.unique(df.id):\n",
    "        # Interpolation linéaire ?? pour trouver l'instant de passage de la boucle\n",
    "        times.append(np.interp(dst, df[df.id==id].dst, df[df.id==id].t))\n",
    "    \n",
    "    times = np.array(times)\n",
    "    #Partie aggrégation\n",
    "    outputTimes = list(np.arange(agg, max(df.t), agg))\n",
    "    outputFlow = []\n",
    "    for time in outputTimes:\n",
    "        outputFlow.append(np.size(times[list(np.where((times < time) & (times > (time - agg)))[0])])/agg)\n",
    "        \n",
    "    return (outputTimes, outputFlow)"
   ]
  },
  {
   "cell_type": "markdown",
   "metadata": {},
   "source": [
    "On illustre le résultat sur un tronçon arbitraire avec une période d'aggrégation de 60s."
   ]
  },
  {
   "cell_type": "code",
   "execution_count": 67,
   "metadata": {},
   "outputs": [
    {
     "data": {
      "image/png": "[encoded data removed]",
      "text/plain": [
       "<matplotlib.figure.Figure at 0x5370db00>"
      ]
     },
     "metadata": {},
     "output_type": "display_data"
    }
   ],
   "source": [
    "#Generation\n",
    "times, flows = generateOneLoopData(df, tron = \"T_68866638_FRef\", dst = 200, agg = 60)\n",
    "# Tracé\n",
    "from matplotlib import pyplot as plt\n",
    "plt.plot(times, flows, linewidth = 2, color = 'black')\n",
    "plt.xlabel('Time (s)')\n",
    "plt.ylabel('Flow (veh/s)')\n",
    "plt.title('Timeserie of flow in troncon T_68866638_FRef at 200m')\n",
    "plt.show()"
   ]
  },
  {
   "cell_type": "markdown",
   "metadata": {},
   "source": [
    "### Génération des débits pour plusieurs boucles\n",
    "\n",
    "On part du principe que les informations des boucles sont comprises dans une dataframe comme suivant :"
   ]
  },
  {
   "cell_type": "code",
   "execution_count": 74,
   "metadata": {},
   "outputs": [
    {
     "data": {
      "text/html": [
       "<div>\n",
       "<style>\n",
       "    .dataframe thead tr:only-child th {\n",
       "        text-align: right;\n",
       "    }\n",
       "\n",
       "    .dataframe thead th {\n",
       "        text-align: left;\n",
       "    }\n",
       "\n",
       "    .dataframe tbody tr th {\n",
       "        vertical-align: top;\n",
       "    }\n",
       "</style>\n",
       "<table border=\"1\" class=\"dataframe\">\n",
       "  <thead>\n",
       "    <tr style=\"text-align: right;\">\n",
       "      <th></th>\n",
       "      <th>id</th>\n",
       "      <th>tron</th>\n",
       "      <th>dst</th>\n",
       "    </tr>\n",
       "  </thead>\n",
       "  <tbody>\n",
       "    <tr>\n",
       "      <th>0</th>\n",
       "      <td>loop_1</td>\n",
       "      <td>T_68866638_FRef</td>\n",
       "      <td>200</td>\n",
       "    </tr>\n",
       "    <tr>\n",
       "      <th>1</th>\n",
       "      <td>loop_2</td>\n",
       "      <td>T_727978488_FRef</td>\n",
       "      <td>150</td>\n",
       "    </tr>\n",
       "    <tr>\n",
       "      <th>2</th>\n",
       "      <td>loop_3</td>\n",
       "      <td>T_56451886_FRef</td>\n",
       "      <td>30</td>\n",
       "    </tr>\n",
       "  </tbody>\n",
       "</table>\n",
       "</div>"
      ],
      "text/plain": [
       "       id              tron  dst\n",
       "0  loop_1   T_68866638_FRef  200\n",
       "1  loop_2  T_727978488_FRef  150\n",
       "2  loop_3   T_56451886_FRef   30"
      ]
     },
     "execution_count": 74,
     "metadata": {},
     "output_type": "execute_result"
    }
   ],
   "source": [
    "loopsDF = pd.DataFrame(\n",
    "        {\"id\" : ['loop_1','loop_2','loop_3'],\n",
    "         \"tron\" : ['T_68866638_FRef','T_727978488_FRef','T_56451886_FRef'],\n",
    "         \"dst\" : ['200', '150', '30']})\n",
    "loopsDF = inputeDF[[\"id\", \"tron\", \"dst\"]]\n",
    "loopsDF"
   ]
  },
  {
   "cell_type": "markdown",
   "metadata": {},
   "source": [
    "La fonction Python pour la génération des données est la suivante :"
   ]
  },
  {
   "cell_type": "code",
   "execution_count": 80,
   "metadata": {},
   "outputs": [],
   "source": [
    "def generateLoopData(trajsDf, loopsDf, agg):\n",
    "    # On créer une nouvelle data frame\n",
    "    output = pd.DataFrame(columns = ['id', 't', 'flow'])\n",
    "    # On boucle sur les boucles\n",
    "    for i in range(len(loopsDf.index)):\n",
    "        times, flows = generateOneLoopData(trajsDf, tron = loopsDf.iloc[i]['tron'], dst = int(loopsDf.iloc[i]['dst']), agg = agg)\n",
    "        # Génération de la nouvelle dataFrame\n",
    "        newDf = pd.DataFrame(\n",
    "        {\"id\" : [loopsDf.iloc[i]['id']]*len(times),\n",
    "         \"t\" : times,\n",
    "         \"flow\" : flows})\n",
    "        # Concaténation\n",
    "        output = pd.concat([output,newDf])\n",
    "        \n",
    "        output =  output[['id','t','flow']].sort_values(by = 't').reset_index(drop=True)\n",
    "    return output"
   ]
  },
  {
   "cell_type": "code",
   "execution_count": 81,
   "metadata": {},
   "outputs": [
    {
     "data": {
      "text/html": [
       "<div>\n",
       "<style>\n",
       "    .dataframe thead tr:only-child th {\n",
       "        text-align: right;\n",
       "    }\n",
       "\n",
       "    .dataframe thead th {\n",
       "        text-align: left;\n",
       "    }\n",
       "\n",
       "    .dataframe tbody tr th {\n",
       "        vertical-align: top;\n",
       "    }\n",
       "</style>\n",
       "<table border=\"1\" class=\"dataframe\">\n",
       "  <thead>\n",
       "    <tr style=\"text-align: right;\">\n",
       "      <th></th>\n",
       "      <th>id</th>\n",
       "      <th>t</th>\n",
       "      <th>flow</th>\n",
       "    </tr>\n",
       "  </thead>\n",
       "  <tbody>\n",
       "    <tr>\n",
       "      <th>0</th>\n",
       "      <td>loop_1</td>\n",
       "      <td>600.0</td>\n",
       "      <td>0.110000</td>\n",
       "    </tr>\n",
       "    <tr>\n",
       "      <th>1</th>\n",
       "      <td>loop_2</td>\n",
       "      <td>600.0</td>\n",
       "      <td>0.066667</td>\n",
       "    </tr>\n",
       "    <tr>\n",
       "      <th>2</th>\n",
       "      <td>loop_3</td>\n",
       "      <td>600.0</td>\n",
       "      <td>0.125000</td>\n",
       "    </tr>\n",
       "    <tr>\n",
       "      <th>3</th>\n",
       "      <td>loop_1</td>\n",
       "      <td>1200.0</td>\n",
       "      <td>0.143333</td>\n",
       "    </tr>\n",
       "    <tr>\n",
       "      <th>4</th>\n",
       "      <td>loop_2</td>\n",
       "      <td>1200.0</td>\n",
       "      <td>0.050000</td>\n",
       "    </tr>\n",
       "  </tbody>\n",
       "</table>\n",
       "</div>"
      ],
      "text/plain": [
       "       id       t      flow\n",
       "0  loop_1   600.0  0.110000\n",
       "1  loop_2   600.0  0.066667\n",
       "2  loop_3   600.0  0.125000\n",
       "3  loop_1  1200.0  0.143333\n",
       "4  loop_2  1200.0  0.050000"
      ]
     },
     "execution_count": 81,
     "metadata": {},
     "output_type": "execute_result"
    }
   ],
   "source": [
    "generateLoopData(df, loopsDF, 600).head(5)"
   ]
  },
  {
   "cell_type": "code",
   "execution_count": null,
   "metadata": {},
   "outputs": [],
   "source": []
  }
 ],
 "metadata": {
  "kernelspec": {
   "display_name": "Python 3",
   "language": "python",
   "name": "python3"
  },
  "language_info": {
   "codemirror_mode": {
    "name": "ipython",
    "version": 3
   },
   "file_extension": ".py",
   "mimetype": "text/x-python",
   "name": "python",
   "nbconvert_exporter": "python",
   "pygments_lexer": "ipython3",
   "version": "3.6.3"
  }
 },
 "nbformat": 4,
 "nbformat_minor": 2
}
